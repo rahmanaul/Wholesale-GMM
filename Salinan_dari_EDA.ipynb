{
  "nbformat": 4,
  "nbformat_minor": 0,
  "metadata": {
    "colab": {
      "name": "Salinan dari EDA.ipynb",
      "provenance": [],
      "include_colab_link": true
    },
    "kernelspec": {
      "name": "python3",
      "display_name": "Python 3"
    }
  },
  "cells": [
    {
      "cell_type": "markdown",
      "metadata": {
        "id": "view-in-github",
        "colab_type": "text"
      },
      "source": [
        "<a href=\"https://colab.research.google.com/github/rahmanaul/Wholesale-GMM/blob/master/Salinan_dari_EDA.ipynb\" target=\"_parent\"><img src=\"https://colab.research.google.com/assets/colab-badge.svg\" alt=\"Open In Colab\"/></a>"
      ]
    },
    {
      "cell_type": "code",
      "metadata": {
        "id": "uKmBBmHK4e_6",
        "colab_type": "code",
        "colab": {
          "base_uri": "https://localhost:8080/"
        },
        "outputId": "b72056bd-d22b-4f3c-c6cf-9ac784b60f26"
      },
      "source": [
        "import pandas as pd\n",
        "import matplotlib.pyplot as plt\n",
        "import seaborn as sns\n",
        "import numpy as np\n",
        "from scipy import stats"
      ],
      "execution_count": null,
      "outputs": [
        {
          "output_type": "stream",
          "text": [
            "/usr/local/lib/python3.6/dist-packages/statsmodels/tools/_testing.py:19: FutureWarning: pandas.util.testing is deprecated. Use the functions in the public API at pandas.testing instead.\n",
            "  import pandas.util.testing as tm\n"
          ],
          "name": "stderr"
        }
      ]
    },
    {
      "cell_type": "code",
      "metadata": {
        "id": "7C5G1qSm48-E",
        "colab_type": "code",
        "colab": {
          "base_uri": "https://localhost:8080/",
          "height": 204
        },
        "outputId": "1d0c2a9f-82e1-4e94-c0ad-1e2b9f9a6196"
      },
      "source": [
        "data = pd.read_csv('Wholesale customers data.csv')\n",
        "data.head()"
      ],
      "execution_count": null,
      "outputs": [
        {
          "output_type": "execute_result",
          "data": {
            "text/html": [
              "<div>\n",
              "<style scoped>\n",
              "    .dataframe tbody tr th:only-of-type {\n",
              "        vertical-align: middle;\n",
              "    }\n",
              "\n",
              "    .dataframe tbody tr th {\n",
              "        vertical-align: top;\n",
              "    }\n",
              "\n",
              "    .dataframe thead th {\n",
              "        text-align: right;\n",
              "    }\n",
              "</style>\n",
              "<table border=\"1\" class=\"dataframe\">\n",
              "  <thead>\n",
              "    <tr style=\"text-align: right;\">\n",
              "      <th></th>\n",
              "      <th>Channel</th>\n",
              "      <th>Region</th>\n",
              "      <th>Fresh</th>\n",
              "      <th>Milk</th>\n",
              "      <th>Grocery</th>\n",
              "      <th>Frozen</th>\n",
              "      <th>Detergents_Paper</th>\n",
              "      <th>Delicassen</th>\n",
              "    </tr>\n",
              "  </thead>\n",
              "  <tbody>\n",
              "    <tr>\n",
              "      <th>0</th>\n",
              "      <td>2</td>\n",
              "      <td>3</td>\n",
              "      <td>12669.0</td>\n",
              "      <td>9656.0</td>\n",
              "      <td>7561.0</td>\n",
              "      <td>214.0</td>\n",
              "      <td>2674.0</td>\n",
              "      <td>1338.0</td>\n",
              "    </tr>\n",
              "    <tr>\n",
              "      <th>1</th>\n",
              "      <td>2</td>\n",
              "      <td>3</td>\n",
              "      <td>7057.0</td>\n",
              "      <td>9810.0</td>\n",
              "      <td>9568.0</td>\n",
              "      <td>1762.0</td>\n",
              "      <td>3293.0</td>\n",
              "      <td>1776.0</td>\n",
              "    </tr>\n",
              "    <tr>\n",
              "      <th>2</th>\n",
              "      <td>2</td>\n",
              "      <td>3</td>\n",
              "      <td>6353.0</td>\n",
              "      <td>8808.0</td>\n",
              "      <td>7684.0</td>\n",
              "      <td>2405.0</td>\n",
              "      <td>3516.0</td>\n",
              "      <td>7844.0</td>\n",
              "    </tr>\n",
              "    <tr>\n",
              "      <th>3</th>\n",
              "      <td>1</td>\n",
              "      <td>3</td>\n",
              "      <td>13265.0</td>\n",
              "      <td>1196.0</td>\n",
              "      <td>4221.0</td>\n",
              "      <td>6404.0</td>\n",
              "      <td>507.0</td>\n",
              "      <td>1788.0</td>\n",
              "    </tr>\n",
              "    <tr>\n",
              "      <th>4</th>\n",
              "      <td>2</td>\n",
              "      <td>3</td>\n",
              "      <td>22615.0</td>\n",
              "      <td>5410.0</td>\n",
              "      <td>7198.0</td>\n",
              "      <td>3915.0</td>\n",
              "      <td>1777.0</td>\n",
              "      <td>5185.0</td>\n",
              "    </tr>\n",
              "  </tbody>\n",
              "</table>\n",
              "</div>"
            ],
            "text/plain": [
              "   Channel  Region    Fresh  ...  Frozen  Detergents_Paper  Delicassen\n",
              "0        2       3  12669.0  ...   214.0            2674.0      1338.0\n",
              "1        2       3   7057.0  ...  1762.0            3293.0      1776.0\n",
              "2        2       3   6353.0  ...  2405.0            3516.0      7844.0\n",
              "3        1       3  13265.0  ...  6404.0             507.0      1788.0\n",
              "4        2       3  22615.0  ...  3915.0            1777.0      5185.0\n",
              "\n",
              "[5 rows x 8 columns]"
            ]
          },
          "metadata": {
            "tags": []
          },
          "execution_count": 196
        }
      ]
    },
    {
      "cell_type": "markdown",
      "metadata": {
        "id": "NSNHSOC85OL3",
        "colab_type": "text"
      },
      "source": [
        "Attribute Information:\n",
        "\n",
        "FRESH: annual spending (m.u.) on fresh products (Continuous)\n",
        "MILK: annual spending (m.u.) on milk products (Continuous)\n",
        "GROCERY: annual spending (m.u.)on grocery products (Continuous)\n",
        "FROZEN: annual spending (m.u.)on frozen products (Continuous)\n",
        "DETERGENTS_PAPER: annual spending (m.u.) on detergents and paper products (Continuous)\n",
        "DELICATESSEN: annual spending (m.u.)on and delicatessen products (Continuous)\n",
        "CHANNEL: customers Channel - Horeca (Hotel/Restaurant/Cafe) or Retail channel (Nominal)\n",
        "REGION: customers Region Lisbon, Pporto or Other (Nominal)"
      ]
    },
    {
      "cell_type": "code",
      "metadata": {
        "id": "_TrBBKxPspe7",
        "colab_type": "code",
        "colab": {
          "base_uri": "https://localhost:8080/",
          "height": 272
        },
        "outputId": "3ee2f09b-247a-402b-c175-6f5ee1bdde57"
      },
      "source": [
        "data.info()"
      ],
      "execution_count": null,
      "outputs": [
        {
          "output_type": "stream",
          "text": [
            "<class 'pandas.core.frame.DataFrame'>\n",
            "RangeIndex: 500 entries, 0 to 499\n",
            "Data columns (total 8 columns):\n",
            " #   Column            Non-Null Count  Dtype  \n",
            "---  ------            --------------  -----  \n",
            " 0   Channel           500 non-null    int64  \n",
            " 1   Region            500 non-null    int64  \n",
            " 2   Fresh             496 non-null    float64\n",
            " 3   Milk              495 non-null    float64\n",
            " 4   Grocery           496 non-null    float64\n",
            " 5   Frozen            495 non-null    float64\n",
            " 6   Detergents_Paper  495 non-null    float64\n",
            " 7   Delicassen        496 non-null    float64\n",
            "dtypes: float64(6), int64(2)\n",
            "memory usage: 31.4 KB\n"
          ],
          "name": "stdout"
        }
      ]
    },
    {
      "cell_type": "code",
      "metadata": {
        "id": "l09Dr7zB5IqX",
        "colab_type": "code",
        "colab": {
          "base_uri": "https://localhost:8080/",
          "height": 297
        },
        "outputId": "57b9139e-0299-42c7-f8b1-822748023326"
      },
      "source": [
        "data.describe()"
      ],
      "execution_count": null,
      "outputs": [
        {
          "output_type": "execute_result",
          "data": {
            "text/html": [
              "<div>\n",
              "<style scoped>\n",
              "    .dataframe tbody tr th:only-of-type {\n",
              "        vertical-align: middle;\n",
              "    }\n",
              "\n",
              "    .dataframe tbody tr th {\n",
              "        vertical-align: top;\n",
              "    }\n",
              "\n",
              "    .dataframe thead th {\n",
              "        text-align: right;\n",
              "    }\n",
              "</style>\n",
              "<table border=\"1\" class=\"dataframe\">\n",
              "  <thead>\n",
              "    <tr style=\"text-align: right;\">\n",
              "      <th></th>\n",
              "      <th>Channel</th>\n",
              "      <th>Region</th>\n",
              "      <th>Fresh</th>\n",
              "      <th>Milk</th>\n",
              "      <th>Grocery</th>\n",
              "      <th>Frozen</th>\n",
              "      <th>Detergents_Paper</th>\n",
              "      <th>Delicassen</th>\n",
              "    </tr>\n",
              "  </thead>\n",
              "  <tbody>\n",
              "    <tr>\n",
              "      <th>count</th>\n",
              "      <td>500.000000</td>\n",
              "      <td>500.000000</td>\n",
              "      <td>4.960000e+02</td>\n",
              "      <td>4.950000e+02</td>\n",
              "      <td>4.960000e+02</td>\n",
              "      <td>4.950000e+02</td>\n",
              "      <td>4.950000e+02</td>\n",
              "      <td>4.960000e+02</td>\n",
              "    </tr>\n",
              "    <tr>\n",
              "      <th>mean</th>\n",
              "      <td>1.404000</td>\n",
              "      <td>2.418000</td>\n",
              "      <td>1.806676e+04</td>\n",
              "      <td>1.851574e+04</td>\n",
              "      <td>1.833829e+04</td>\n",
              "      <td>6.321590e+04</td>\n",
              "      <td>1.667034e+04</td>\n",
              "      <td>9.540163e+03</td>\n",
              "    </tr>\n",
              "    <tr>\n",
              "      <th>std</th>\n",
              "      <td>0.491189</td>\n",
              "      <td>0.820135</td>\n",
              "      <td>1.140949e+05</td>\n",
              "      <td>2.480502e+05</td>\n",
              "      <td>1.989876e+05</td>\n",
              "      <td>1.058266e+06</td>\n",
              "      <td>1.928313e+05</td>\n",
              "      <td>1.169039e+05</td>\n",
              "    </tr>\n",
              "    <tr>\n",
              "      <th>min</th>\n",
              "      <td>1.000000</td>\n",
              "      <td>1.000000</td>\n",
              "      <td>-1.732700e+04</td>\n",
              "      <td>-2.022300e+04</td>\n",
              "      <td>-2.157000e+04</td>\n",
              "      <td>-5.679000e+03</td>\n",
              "      <td>-1.178300e+04</td>\n",
              "      <td>-6.200000e+01</td>\n",
              "    </tr>\n",
              "    <tr>\n",
              "      <th>25%</th>\n",
              "      <td>1.000000</td>\n",
              "      <td>2.000000</td>\n",
              "      <td>2.855250e+03</td>\n",
              "      <td>1.532000e+03</td>\n",
              "      <td>2.146750e+03</td>\n",
              "      <td>6.595000e+02</td>\n",
              "      <td>2.650000e+02</td>\n",
              "      <td>3.750000e+02</td>\n",
              "    </tr>\n",
              "    <tr>\n",
              "      <th>50%</th>\n",
              "      <td>1.000000</td>\n",
              "      <td>3.000000</td>\n",
              "      <td>7.774500e+03</td>\n",
              "      <td>3.587000e+03</td>\n",
              "      <td>4.683500e+03</td>\n",
              "      <td>1.483000e+03</td>\n",
              "      <td>8.250000e+02</td>\n",
              "      <td>9.250000e+02</td>\n",
              "    </tr>\n",
              "    <tr>\n",
              "      <th>75%</th>\n",
              "      <td>2.000000</td>\n",
              "      <td>3.000000</td>\n",
              "      <td>1.630700e+04</td>\n",
              "      <td>7.051000e+03</td>\n",
              "      <td>1.041100e+04</td>\n",
              "      <td>3.559500e+03</td>\n",
              "      <td>3.909000e+03</td>\n",
              "      <td>1.824750e+03</td>\n",
              "    </tr>\n",
              "    <tr>\n",
              "      <th>max</th>\n",
              "      <td>2.000000</td>\n",
              "      <td>3.000000</td>\n",
              "      <td>2.337588e+06</td>\n",
              "      <td>5.433446e+06</td>\n",
              "      <td>4.323643e+06</td>\n",
              "      <td>2.323139e+07</td>\n",
              "      <td>3.232825e+06</td>\n",
              "      <td>2.321522e+06</td>\n",
              "    </tr>\n",
              "  </tbody>\n",
              "</table>\n",
              "</div>"
            ],
            "text/plain": [
              "          Channel      Region  ...  Detergents_Paper    Delicassen\n",
              "count  500.000000  500.000000  ...      4.950000e+02  4.960000e+02\n",
              "mean     1.404000    2.418000  ...      1.667034e+04  9.540163e+03\n",
              "std      0.491189    0.820135  ...      1.928313e+05  1.169039e+05\n",
              "min      1.000000    1.000000  ...     -1.178300e+04 -6.200000e+01\n",
              "25%      1.000000    2.000000  ...      2.650000e+02  3.750000e+02\n",
              "50%      1.000000    3.000000  ...      8.250000e+02  9.250000e+02\n",
              "75%      2.000000    3.000000  ...      3.909000e+03  1.824750e+03\n",
              "max      2.000000    3.000000  ...      3.232825e+06  2.321522e+06\n",
              "\n",
              "[8 rows x 8 columns]"
            ]
          },
          "metadata": {
            "tags": []
          },
          "execution_count": 198
        }
      ]
    },
    {
      "cell_type": "code",
      "metadata": {
        "id": "aM_E9_yX5ZZm",
        "colab_type": "code",
        "colab": {
          "base_uri": "https://localhost:8080/",
          "height": 170
        },
        "outputId": "2a8a8ee7-a21b-42b6-ed27-d228dc85a7db"
      },
      "source": [
        "data.isnull().sum()"
      ],
      "execution_count": null,
      "outputs": [
        {
          "output_type": "execute_result",
          "data": {
            "text/plain": [
              "Channel             0\n",
              "Region              0\n",
              "Fresh               4\n",
              "Milk                5\n",
              "Grocery             4\n",
              "Frozen              5\n",
              "Detergents_Paper    5\n",
              "Delicassen          4\n",
              "dtype: int64"
            ]
          },
          "metadata": {
            "tags": []
          },
          "execution_count": 199
        }
      ]
    },
    {
      "cell_type": "code",
      "metadata": {
        "id": "wY2z-YlZ6zez",
        "colab_type": "code",
        "colab": {
          "base_uri": "https://localhost:8080/",
          "height": 170
        },
        "outputId": "d6725a6e-da28-4282-b8ae-efd64cf5da6f"
      },
      "source": [
        "data = data.dropna(how='any',axis=0)\n",
        "# Check for null values\n",
        "data.isnull().sum()"
      ],
      "execution_count": null,
      "outputs": [
        {
          "output_type": "execute_result",
          "data": {
            "text/plain": [
              "Channel             0\n",
              "Region              0\n",
              "Fresh               0\n",
              "Milk                0\n",
              "Grocery             0\n",
              "Frozen              0\n",
              "Detergents_Paper    0\n",
              "Delicassen          0\n",
              "dtype: int64"
            ]
          },
          "metadata": {
            "tags": []
          },
          "execution_count": 200
        }
      ]
    },
    {
      "cell_type": "markdown",
      "metadata": {
        "id": "kXU8u2kW4KJr",
        "colab_type": "text"
      },
      "source": [
        "**Outlier**"
      ]
    },
    {
      "cell_type": "code",
      "metadata": {
        "id": "eaBiaRLpbcfU",
        "colab_type": "code",
        "colab": {
          "base_uri": "https://localhost:8080/",
          "height": 297
        },
        "outputId": "9b617466-1f03-4c46-dd59-dba5f94e96a8"
      },
      "source": [
        "data = data[(data > 0).all(1)]\n",
        "Q1 = data.quantile(0.25)\n",
        "Q3 = data.quantile(0.75)\n",
        "IQR = Q3 - Q1\n",
        "test1 = data < (Q1 - 1.5 * IQR)\n",
        "test2 = data > (Q3 + 1.5 * IQR)\n",
        "data1 = data[~((data < (Q1-1.5 * IQR)) |(data > (Q3 + 1.5 * IQR))).any(axis=1)]\n",
        "\n",
        "data.describe()"
      ],
      "execution_count": null,
      "outputs": [
        {
          "output_type": "execute_result",
          "data": {
            "text/html": [
              "<div>\n",
              "<style scoped>\n",
              "    .dataframe tbody tr th:only-of-type {\n",
              "        vertical-align: middle;\n",
              "    }\n",
              "\n",
              "    .dataframe tbody tr th {\n",
              "        vertical-align: top;\n",
              "    }\n",
              "\n",
              "    .dataframe thead th {\n",
              "        text-align: right;\n",
              "    }\n",
              "</style>\n",
              "<table border=\"1\" class=\"dataframe\">\n",
              "  <thead>\n",
              "    <tr style=\"text-align: right;\">\n",
              "      <th></th>\n",
              "      <th>Channel</th>\n",
              "      <th>Region</th>\n",
              "      <th>Fresh</th>\n",
              "      <th>Milk</th>\n",
              "      <th>Grocery</th>\n",
              "      <th>Frozen</th>\n",
              "      <th>Detergents_Paper</th>\n",
              "      <th>Delicassen</th>\n",
              "    </tr>\n",
              "  </thead>\n",
              "  <tbody>\n",
              "    <tr>\n",
              "      <th>count</th>\n",
              "      <td>456.000000</td>\n",
              "      <td>456.000000</td>\n",
              "      <td>4.560000e+02</td>\n",
              "      <td>4.560000e+02</td>\n",
              "      <td>4.560000e+02</td>\n",
              "      <td>4.560000e+02</td>\n",
              "      <td>4.560000e+02</td>\n",
              "      <td>4.560000e+02</td>\n",
              "    </tr>\n",
              "    <tr>\n",
              "      <th>mean</th>\n",
              "      <td>1.348684</td>\n",
              "      <td>2.517544</td>\n",
              "      <td>1.913024e+04</td>\n",
              "      <td>1.979596e+04</td>\n",
              "      <td>1.949698e+04</td>\n",
              "      <td>6.833089e+04</td>\n",
              "      <td>1.794044e+04</td>\n",
              "      <td>1.018073e+04</td>\n",
              "    </tr>\n",
              "    <tr>\n",
              "      <th>std</th>\n",
              "      <td>0.477077</td>\n",
              "      <td>0.772977</td>\n",
              "      <td>1.189112e+05</td>\n",
              "      <td>2.584089e+05</td>\n",
              "      <td>2.074906e+05</td>\n",
              "      <td>1.102534e+06</td>\n",
              "      <td>2.008719e+05</td>\n",
              "      <td>1.218944e+05</td>\n",
              "    </tr>\n",
              "    <tr>\n",
              "      <th>min</th>\n",
              "      <td>1.000000</td>\n",
              "      <td>1.000000</td>\n",
              "      <td>2.000000e+00</td>\n",
              "      <td>1.000000e+00</td>\n",
              "      <td>2.000000e+00</td>\n",
              "      <td>3.000000e+00</td>\n",
              "      <td>2.000000e+00</td>\n",
              "      <td>3.000000e+00</td>\n",
              "    </tr>\n",
              "    <tr>\n",
              "      <th>25%</th>\n",
              "      <td>1.000000</td>\n",
              "      <td>2.000000</td>\n",
              "      <td>3.082000e+03</td>\n",
              "      <td>1.483250e+03</td>\n",
              "      <td>2.127000e+03</td>\n",
              "      <td>6.842500e+02</td>\n",
              "      <td>2.557500e+02</td>\n",
              "      <td>4.047500e+02</td>\n",
              "    </tr>\n",
              "    <tr>\n",
              "      <th>50%</th>\n",
              "      <td>1.000000</td>\n",
              "      <td>3.000000</td>\n",
              "      <td>8.257500e+03</td>\n",
              "      <td>3.611500e+03</td>\n",
              "      <td>4.755500e+03</td>\n",
              "      <td>1.510500e+03</td>\n",
              "      <td>8.205000e+02</td>\n",
              "      <td>9.605000e+02</td>\n",
              "    </tr>\n",
              "    <tr>\n",
              "      <th>75%</th>\n",
              "      <td>2.000000</td>\n",
              "      <td>3.000000</td>\n",
              "      <td>1.693375e+04</td>\n",
              "      <td>7.190250e+03</td>\n",
              "      <td>1.065575e+04</td>\n",
              "      <td>3.590750e+03</td>\n",
              "      <td>4.003250e+03</td>\n",
              "      <td>1.820250e+03</td>\n",
              "    </tr>\n",
              "    <tr>\n",
              "      <th>max</th>\n",
              "      <td>2.000000</td>\n",
              "      <td>3.000000</td>\n",
              "      <td>2.337588e+06</td>\n",
              "      <td>5.433446e+06</td>\n",
              "      <td>4.323643e+06</td>\n",
              "      <td>2.323139e+07</td>\n",
              "      <td>3.232825e+06</td>\n",
              "      <td>2.321522e+06</td>\n",
              "    </tr>\n",
              "  </tbody>\n",
              "</table>\n",
              "</div>"
            ],
            "text/plain": [
              "          Channel      Region  ...  Detergents_Paper    Delicassen\n",
              "count  456.000000  456.000000  ...      4.560000e+02  4.560000e+02\n",
              "mean     1.348684    2.517544  ...      1.794044e+04  1.018073e+04\n",
              "std      0.477077    0.772977  ...      2.008719e+05  1.218944e+05\n",
              "min      1.000000    1.000000  ...      2.000000e+00  3.000000e+00\n",
              "25%      1.000000    2.000000  ...      2.557500e+02  4.047500e+02\n",
              "50%      1.000000    3.000000  ...      8.205000e+02  9.605000e+02\n",
              "75%      2.000000    3.000000  ...      4.003250e+03  1.820250e+03\n",
              "max      2.000000    3.000000  ...      3.232825e+06  2.321522e+06\n",
              "\n",
              "[8 rows x 8 columns]"
            ]
          },
          "metadata": {
            "tags": []
          },
          "execution_count": 201
        }
      ]
    },
    {
      "cell_type": "code",
      "metadata": {
        "id": "g4d9G0nh5caK",
        "colab_type": "code",
        "colab": {
          "base_uri": "https://localhost:8080/",
          "height": 34
        },
        "outputId": "229996f3-f0a3-4bbe-8c63-9bfa1e5bf429"
      },
      "source": [
        "data.shape"
      ],
      "execution_count": null,
      "outputs": [
        {
          "output_type": "execute_result",
          "data": {
            "text/plain": [
              "(456, 8)"
            ]
          },
          "metadata": {
            "tags": []
          },
          "execution_count": 202
        }
      ]
    },
    {
      "cell_type": "code",
      "metadata": {
        "id": "fsGnM8785ekP",
        "colab_type": "code",
        "colab": {
          "base_uri": "https://localhost:8080/",
          "height": 170
        },
        "outputId": "bc06341e-ecba-4b81-90bf-dd1bd27461fe"
      },
      "source": [
        "data.dtypes"
      ],
      "execution_count": null,
      "outputs": [
        {
          "output_type": "execute_result",
          "data": {
            "text/plain": [
              "Channel               int64\n",
              "Region                int64\n",
              "Fresh               float64\n",
              "Milk                float64\n",
              "Grocery             float64\n",
              "Frozen              float64\n",
              "Detergents_Paper    float64\n",
              "Delicassen          float64\n",
              "dtype: object"
            ]
          },
          "metadata": {
            "tags": []
          },
          "execution_count": 203
        }
      ]
    },
    {
      "cell_type": "code",
      "metadata": {
        "id": "J2OmIQwS5oGb",
        "colab_type": "code",
        "colab": {
          "base_uri": "https://localhost:8080/",
          "height": 241
        },
        "outputId": "312d6f75-1c1d-4087-8d1c-7826cbc481dd"
      },
      "source": [
        "# Replace the number of the Region column with the corresponded name\n",
        "data1['Region'] = data1['Region'].map({1: 'Lisbon', 2: 'Porto', 3: 'Other Region'})\n",
        "\n",
        "# Replace the number of the Channel column with the corresponded name\n",
        "data1['Channel'] = data1['Channel'].map({1: 'Horeca', 2: 'Retail'})"
      ],
      "execution_count": null,
      "outputs": [
        {
          "output_type": "stream",
          "text": [
            "/usr/local/lib/python3.6/dist-packages/ipykernel_launcher.py:2: SettingWithCopyWarning: \n",
            "A value is trying to be set on a copy of a slice from a DataFrame.\n",
            "Try using .loc[row_indexer,col_indexer] = value instead\n",
            "\n",
            "See the caveats in the documentation: https://pandas.pydata.org/pandas-docs/stable/user_guide/indexing.html#returning-a-view-versus-a-copy\n",
            "  \n",
            "/usr/local/lib/python3.6/dist-packages/ipykernel_launcher.py:5: SettingWithCopyWarning: \n",
            "A value is trying to be set on a copy of a slice from a DataFrame.\n",
            "Try using .loc[row_indexer,col_indexer] = value instead\n",
            "\n",
            "See the caveats in the documentation: https://pandas.pydata.org/pandas-docs/stable/user_guide/indexing.html#returning-a-view-versus-a-copy\n",
            "  \"\"\"\n"
          ],
          "name": "stderr"
        }
      ]
    },
    {
      "cell_type": "code",
      "metadata": {
        "id": "LZNslF3_5qLH",
        "colab_type": "code",
        "colab": {
          "base_uri": "https://localhost:8080/",
          "height": 204
        },
        "outputId": "4a229b95-932b-4951-ff50-8751beb75737"
      },
      "source": [
        "data1.head()"
      ],
      "execution_count": null,
      "outputs": [
        {
          "output_type": "execute_result",
          "data": {
            "text/html": [
              "<div>\n",
              "<style scoped>\n",
              "    .dataframe tbody tr th:only-of-type {\n",
              "        vertical-align: middle;\n",
              "    }\n",
              "\n",
              "    .dataframe tbody tr th {\n",
              "        vertical-align: top;\n",
              "    }\n",
              "\n",
              "    .dataframe thead th {\n",
              "        text-align: right;\n",
              "    }\n",
              "</style>\n",
              "<table border=\"1\" class=\"dataframe\">\n",
              "  <thead>\n",
              "    <tr style=\"text-align: right;\">\n",
              "      <th></th>\n",
              "      <th>Channel</th>\n",
              "      <th>Region</th>\n",
              "      <th>Fresh</th>\n",
              "      <th>Milk</th>\n",
              "      <th>Grocery</th>\n",
              "      <th>Frozen</th>\n",
              "      <th>Detergents_Paper</th>\n",
              "      <th>Delicassen</th>\n",
              "    </tr>\n",
              "  </thead>\n",
              "  <tbody>\n",
              "    <tr>\n",
              "      <th>0</th>\n",
              "      <td>Retail</td>\n",
              "      <td>Other Region</td>\n",
              "      <td>12669.0</td>\n",
              "      <td>9656.0</td>\n",
              "      <td>7561.0</td>\n",
              "      <td>214.0</td>\n",
              "      <td>2674.0</td>\n",
              "      <td>1338.0</td>\n",
              "    </tr>\n",
              "    <tr>\n",
              "      <th>1</th>\n",
              "      <td>Retail</td>\n",
              "      <td>Other Region</td>\n",
              "      <td>7057.0</td>\n",
              "      <td>9810.0</td>\n",
              "      <td>9568.0</td>\n",
              "      <td>1762.0</td>\n",
              "      <td>3293.0</td>\n",
              "      <td>1776.0</td>\n",
              "    </tr>\n",
              "    <tr>\n",
              "      <th>3</th>\n",
              "      <td>Horeca</td>\n",
              "      <td>Other Region</td>\n",
              "      <td>13265.0</td>\n",
              "      <td>1196.0</td>\n",
              "      <td>4221.0</td>\n",
              "      <td>6404.0</td>\n",
              "      <td>507.0</td>\n",
              "      <td>1788.0</td>\n",
              "    </tr>\n",
              "    <tr>\n",
              "      <th>5</th>\n",
              "      <td>Retail</td>\n",
              "      <td>Other Region</td>\n",
              "      <td>9413.0</td>\n",
              "      <td>8259.0</td>\n",
              "      <td>5126.0</td>\n",
              "      <td>666.0</td>\n",
              "      <td>1795.0</td>\n",
              "      <td>1451.0</td>\n",
              "    </tr>\n",
              "    <tr>\n",
              "      <th>6</th>\n",
              "      <td>Retail</td>\n",
              "      <td>Other Region</td>\n",
              "      <td>12126.0</td>\n",
              "      <td>3199.0</td>\n",
              "      <td>6975.0</td>\n",
              "      <td>480.0</td>\n",
              "      <td>3140.0</td>\n",
              "      <td>545.0</td>\n",
              "    </tr>\n",
              "  </tbody>\n",
              "</table>\n",
              "</div>"
            ],
            "text/plain": [
              "  Channel        Region    Fresh  ...  Frozen  Detergents_Paper  Delicassen\n",
              "0  Retail  Other Region  12669.0  ...   214.0            2674.0      1338.0\n",
              "1  Retail  Other Region   7057.0  ...  1762.0            3293.0      1776.0\n",
              "3  Horeca  Other Region  13265.0  ...  6404.0             507.0      1788.0\n",
              "5  Retail  Other Region   9413.0  ...   666.0            1795.0      1451.0\n",
              "6  Retail  Other Region  12126.0  ...   480.0            3140.0       545.0\n",
              "\n",
              "[5 rows x 8 columns]"
            ]
          },
          "metadata": {
            "tags": []
          },
          "execution_count": 205
        }
      ]
    },
    {
      "cell_type": "code",
      "metadata": {
        "id": "yPzM89W95sI6",
        "colab_type": "code",
        "colab": {
          "base_uri": "https://localhost:8080/",
          "height": 139
        },
        "outputId": "2552c3f4-8d1f-4b30-937f-b5023e767ee2"
      },
      "source": [
        "data1['Total'] = data1.iloc[:,2:].sum(axis = 1)"
      ],
      "execution_count": null,
      "outputs": [
        {
          "output_type": "stream",
          "text": [
            "/usr/local/lib/python3.6/dist-packages/ipykernel_launcher.py:1: SettingWithCopyWarning: \n",
            "A value is trying to be set on a copy of a slice from a DataFrame.\n",
            "Try using .loc[row_indexer,col_indexer] = value instead\n",
            "\n",
            "See the caveats in the documentation: https://pandas.pydata.org/pandas-docs/stable/user_guide/indexing.html#returning-a-view-versus-a-copy\n",
            "  \"\"\"Entry point for launching an IPython kernel.\n"
          ],
          "name": "stderr"
        }
      ]
    },
    {
      "cell_type": "code",
      "metadata": {
        "id": "SW3A6s2i5ySi",
        "colab_type": "code",
        "colab": {
          "base_uri": "https://localhost:8080/",
          "height": 204
        },
        "outputId": "5fbb07fa-6d82-49f5-dd39-55439e867ac0"
      },
      "source": [
        "data1.head()"
      ],
      "execution_count": null,
      "outputs": [
        {
          "output_type": "execute_result",
          "data": {
            "text/html": [
              "<div>\n",
              "<style scoped>\n",
              "    .dataframe tbody tr th:only-of-type {\n",
              "        vertical-align: middle;\n",
              "    }\n",
              "\n",
              "    .dataframe tbody tr th {\n",
              "        vertical-align: top;\n",
              "    }\n",
              "\n",
              "    .dataframe thead th {\n",
              "        text-align: right;\n",
              "    }\n",
              "</style>\n",
              "<table border=\"1\" class=\"dataframe\">\n",
              "  <thead>\n",
              "    <tr style=\"text-align: right;\">\n",
              "      <th></th>\n",
              "      <th>Channel</th>\n",
              "      <th>Region</th>\n",
              "      <th>Fresh</th>\n",
              "      <th>Milk</th>\n",
              "      <th>Grocery</th>\n",
              "      <th>Frozen</th>\n",
              "      <th>Detergents_Paper</th>\n",
              "      <th>Delicassen</th>\n",
              "      <th>Total</th>\n",
              "    </tr>\n",
              "  </thead>\n",
              "  <tbody>\n",
              "    <tr>\n",
              "      <th>0</th>\n",
              "      <td>Retail</td>\n",
              "      <td>Other Region</td>\n",
              "      <td>12669.0</td>\n",
              "      <td>9656.0</td>\n",
              "      <td>7561.0</td>\n",
              "      <td>214.0</td>\n",
              "      <td>2674.0</td>\n",
              "      <td>1338.0</td>\n",
              "      <td>34112.0</td>\n",
              "    </tr>\n",
              "    <tr>\n",
              "      <th>1</th>\n",
              "      <td>Retail</td>\n",
              "      <td>Other Region</td>\n",
              "      <td>7057.0</td>\n",
              "      <td>9810.0</td>\n",
              "      <td>9568.0</td>\n",
              "      <td>1762.0</td>\n",
              "      <td>3293.0</td>\n",
              "      <td>1776.0</td>\n",
              "      <td>33266.0</td>\n",
              "    </tr>\n",
              "    <tr>\n",
              "      <th>3</th>\n",
              "      <td>Horeca</td>\n",
              "      <td>Other Region</td>\n",
              "      <td>13265.0</td>\n",
              "      <td>1196.0</td>\n",
              "      <td>4221.0</td>\n",
              "      <td>6404.0</td>\n",
              "      <td>507.0</td>\n",
              "      <td>1788.0</td>\n",
              "      <td>27381.0</td>\n",
              "    </tr>\n",
              "    <tr>\n",
              "      <th>5</th>\n",
              "      <td>Retail</td>\n",
              "      <td>Other Region</td>\n",
              "      <td>9413.0</td>\n",
              "      <td>8259.0</td>\n",
              "      <td>5126.0</td>\n",
              "      <td>666.0</td>\n",
              "      <td>1795.0</td>\n",
              "      <td>1451.0</td>\n",
              "      <td>26710.0</td>\n",
              "    </tr>\n",
              "    <tr>\n",
              "      <th>6</th>\n",
              "      <td>Retail</td>\n",
              "      <td>Other Region</td>\n",
              "      <td>12126.0</td>\n",
              "      <td>3199.0</td>\n",
              "      <td>6975.0</td>\n",
              "      <td>480.0</td>\n",
              "      <td>3140.0</td>\n",
              "      <td>545.0</td>\n",
              "      <td>26465.0</td>\n",
              "    </tr>\n",
              "  </tbody>\n",
              "</table>\n",
              "</div>"
            ],
            "text/plain": [
              "  Channel        Region    Fresh  ...  Detergents_Paper  Delicassen    Total\n",
              "0  Retail  Other Region  12669.0  ...            2674.0      1338.0  34112.0\n",
              "1  Retail  Other Region   7057.0  ...            3293.0      1776.0  33266.0\n",
              "3  Horeca  Other Region  13265.0  ...             507.0      1788.0  27381.0\n",
              "5  Retail  Other Region   9413.0  ...            1795.0      1451.0  26710.0\n",
              "6  Retail  Other Region  12126.0  ...            3140.0       545.0  26465.0\n",
              "\n",
              "[5 rows x 9 columns]"
            ]
          },
          "metadata": {
            "tags": []
          },
          "execution_count": 207
        }
      ]
    },
    {
      "cell_type": "code",
      "metadata": {
        "id": "G_vCtgsn50N7",
        "colab_type": "code",
        "colab": {
          "base_uri": "https://localhost:8080/",
          "height": 119
        },
        "outputId": "465dd620-0bbb-4904-cbc5-9711a383a986"
      },
      "source": [
        "x = data1.iloc[:, 2:-2].sum(axis = 0)\n",
        "x"
      ],
      "execution_count": null,
      "outputs": [
        {
          "output_type": "execute_result",
          "data": {
            "text/plain": [
              "Fresh               3205496.0\n",
              "Milk                1384299.0\n",
              "Grocery             1973522.0\n",
              "Frozen               634237.0\n",
              "Detergents_Paper     657399.0\n",
              "dtype: float64"
            ]
          },
          "metadata": {
            "tags": []
          },
          "execution_count": 208
        }
      ]
    },
    {
      "cell_type": "code",
      "metadata": {
        "id": "0KaBYslS54mJ",
        "colab_type": "code",
        "colab": {
          "base_uri": "https://localhost:8080/",
          "height": 356
        },
        "outputId": "b5bfda14-c822-4bb7-af5a-21198138c541"
      },
      "source": [
        "# Plotting the results\n",
        "plt.style.use('seaborn')\n",
        "plt.figure(figsize=(10,5))\n",
        "\n",
        "x.plot(kind = 'bar')\n",
        "plt.xlabel('Categories of Products', fontdict={'fontweight': 'bold', 'fontsize': 14})\n",
        "plt.ylabel('Total amount', fontdict={'fontweight': 'bold', 'fontsize': 14})\n",
        "plt.title('Total Annual Spending for Each Category', fontdict={'fontweight': 'bold', 'fontsize': 16})\n",
        "plt.xticks(rotation = 0)\n",
        "\n",
        "plt.tight_layout\n",
        "plt.show()"
      ],
      "execution_count": null,
      "outputs": [
        {
          "output_type": "display_data",
          "data": {
            "image/png": "[encoded data removed]",
            "text/plain": [
              "<Figure size 720x360 with 1 Axes>"
            ]
          },
          "metadata": {
            "tags": []
          }
        }
      ]
    },
    {
      "cell_type": "code",
      "metadata": {
        "id": "zR__9rQG575g",
        "colab_type": "code",
        "colab": {
          "base_uri": "https://localhost:8080/",
          "height": 359
        },
        "outputId": "469362ca-27e7-4ccc-85b1-8682f6901fc6"
      },
      "source": [
        "t = data1.sort_values('Total', ascending = False).head(10)\n",
        "t"
      ],
      "execution_count": null,
      "outputs": [
        {
          "output_type": "execute_result",
          "data": {
            "text/html": [
              "<div>\n",
              "<style scoped>\n",
              "    .dataframe tbody tr th:only-of-type {\n",
              "        vertical-align: middle;\n",
              "    }\n",
              "\n",
              "    .dataframe tbody tr th {\n",
              "        vertical-align: top;\n",
              "    }\n",
              "\n",
              "    .dataframe thead th {\n",
              "        text-align: right;\n",
              "    }\n",
              "</style>\n",
              "<table border=\"1\" class=\"dataframe\">\n",
              "  <thead>\n",
              "    <tr style=\"text-align: right;\">\n",
              "      <th></th>\n",
              "      <th>Channel</th>\n",
              "      <th>Region</th>\n",
              "      <th>Fresh</th>\n",
              "      <th>Milk</th>\n",
              "      <th>Grocery</th>\n",
              "      <th>Frozen</th>\n",
              "      <th>Detergents_Paper</th>\n",
              "      <th>Delicassen</th>\n",
              "      <th>Total</th>\n",
              "    </tr>\n",
              "  </thead>\n",
              "  <tbody>\n",
              "    <tr>\n",
              "      <th>12</th>\n",
              "      <td>Retail</td>\n",
              "      <td>Other Region</td>\n",
              "      <td>31714.0</td>\n",
              "      <td>12319.0</td>\n",
              "      <td>11757.0</td>\n",
              "      <td>287.0</td>\n",
              "      <td>3881.0</td>\n",
              "      <td>2931.0</td>\n",
              "      <td>62889.0</td>\n",
              "    </tr>\n",
              "    <tr>\n",
              "      <th>165</th>\n",
              "      <td>Retail</td>\n",
              "      <td>Other Region</td>\n",
              "      <td>15615.0</td>\n",
              "      <td>12653.0</td>\n",
              "      <td>19858.0</td>\n",
              "      <td>4425.0</td>\n",
              "      <td>7108.0</td>\n",
              "      <td>2379.0</td>\n",
              "      <td>62038.0</td>\n",
              "    </tr>\n",
              "    <tr>\n",
              "      <th>393</th>\n",
              "      <td>Horeca</td>\n",
              "      <td>Other Region</td>\n",
              "      <td>34454.0</td>\n",
              "      <td>7435.0</td>\n",
              "      <td>8469.0</td>\n",
              "      <td>2540.0</td>\n",
              "      <td>1711.0</td>\n",
              "      <td>2893.0</td>\n",
              "      <td>57502.0</td>\n",
              "    </tr>\n",
              "    <tr>\n",
              "      <th>253</th>\n",
              "      <td>Horeca</td>\n",
              "      <td>Lisbon</td>\n",
              "      <td>29526.0</td>\n",
              "      <td>7961.0</td>\n",
              "      <td>16966.0</td>\n",
              "      <td>432.0</td>\n",
              "      <td>363.0</td>\n",
              "      <td>1391.0</td>\n",
              "      <td>56639.0</td>\n",
              "    </tr>\n",
              "    <tr>\n",
              "      <th>142</th>\n",
              "      <td>Horeca</td>\n",
              "      <td>Other Region</td>\n",
              "      <td>37036.0</td>\n",
              "      <td>7152.0</td>\n",
              "      <td>8253.0</td>\n",
              "      <td>2995.0</td>\n",
              "      <td>20.0</td>\n",
              "      <td>3.0</td>\n",
              "      <td>55459.0</td>\n",
              "    </tr>\n",
              "    <tr>\n",
              "      <th>347</th>\n",
              "      <td>Retail</td>\n",
              "      <td>Other Region</td>\n",
              "      <td>27380.0</td>\n",
              "      <td>7184.0</td>\n",
              "      <td>12311.0</td>\n",
              "      <td>2809.0</td>\n",
              "      <td>4621.0</td>\n",
              "      <td>1022.0</td>\n",
              "      <td>55327.0</td>\n",
              "    </tr>\n",
              "    <tr>\n",
              "      <th>14</th>\n",
              "      <td>Retail</td>\n",
              "      <td>Other Region</td>\n",
              "      <td>24653.0</td>\n",
              "      <td>9465.0</td>\n",
              "      <td>12091.0</td>\n",
              "      <td>294.0</td>\n",
              "      <td>5058.0</td>\n",
              "      <td>2168.0</td>\n",
              "      <td>53729.0</td>\n",
              "    </tr>\n",
              "    <tr>\n",
              "      <th>13</th>\n",
              "      <td>Retail</td>\n",
              "      <td>Other Region</td>\n",
              "      <td>21217.0</td>\n",
              "      <td>6208.0</td>\n",
              "      <td>14982.0</td>\n",
              "      <td>3095.0</td>\n",
              "      <td>6707.0</td>\n",
              "      <td>602.0</td>\n",
              "      <td>52811.0</td>\n",
              "    </tr>\n",
              "    <tr>\n",
              "      <th>335</th>\n",
              "      <td>Retail</td>\n",
              "      <td>Porto</td>\n",
              "      <td>27082.0</td>\n",
              "      <td>6817.0</td>\n",
              "      <td>10790.0</td>\n",
              "      <td>1365.0</td>\n",
              "      <td>4111.0</td>\n",
              "      <td>2139.0</td>\n",
              "      <td>52304.0</td>\n",
              "    </tr>\n",
              "    <tr>\n",
              "      <th>306</th>\n",
              "      <td>Retail</td>\n",
              "      <td>Porto</td>\n",
              "      <td>6468.0</td>\n",
              "      <td>12867.0</td>\n",
              "      <td>21570.0</td>\n",
              "      <td>1840.0</td>\n",
              "      <td>7558.0</td>\n",
              "      <td>1543.0</td>\n",
              "      <td>51846.0</td>\n",
              "    </tr>\n",
              "  </tbody>\n",
              "</table>\n",
              "</div>"
            ],
            "text/plain": [
              "    Channel        Region    Fresh  ...  Detergents_Paper  Delicassen    Total\n",
              "12   Retail  Other Region  31714.0  ...            3881.0      2931.0  62889.0\n",
              "165  Retail  Other Region  15615.0  ...            7108.0      2379.0  62038.0\n",
              "393  Horeca  Other Region  34454.0  ...            1711.0      2893.0  57502.0\n",
              "253  Horeca        Lisbon  29526.0  ...             363.0      1391.0  56639.0\n",
              "142  Horeca  Other Region  37036.0  ...              20.0         3.0  55459.0\n",
              "347  Retail  Other Region  27380.0  ...            4621.0      1022.0  55327.0\n",
              "14   Retail  Other Region  24653.0  ...            5058.0      2168.0  53729.0\n",
              "13   Retail  Other Region  21217.0  ...            6707.0       602.0  52811.0\n",
              "335  Retail         Porto  27082.0  ...            4111.0      2139.0  52304.0\n",
              "306  Retail         Porto   6468.0  ...            7558.0      1543.0  51846.0\n",
              "\n",
              "[10 rows x 9 columns]"
            ]
          },
          "metadata": {
            "tags": []
          },
          "execution_count": 210
        }
      ]
    },
    {
      "cell_type": "code",
      "metadata": {
        "id": "crNIeZan6BZi",
        "colab_type": "code",
        "colab": {
          "base_uri": "https://localhost:8080/",
          "height": 356
        },
        "outputId": "dc24a586-2dc2-41f5-8ffc-f47c8f1fe997"
      },
      "source": [
        "# Plotting the results\n",
        "plt.style.use('seaborn')\n",
        "plt.figure(figsize=(10,5))\n",
        "\n",
        "sns.barplot(t.index, t.Total, color='lightgreen', errwidth = True)\n",
        "plt.xlabel('Client Number', fontdict={'fontweight': 'bold', 'fontsize': 14})\n",
        "plt.ylabel('Total amount', fontdict={'fontweight': 'bold', 'fontsize': 14})\n",
        "plt.title('Top Clients Depending on their Spendings', fontdict={'fontweight': 'bold', 'fontsize': 16})\n",
        "\n",
        "\n",
        "plt.tight_layout\n",
        "plt.show()"
      ],
      "execution_count": null,
      "outputs": [
        {
          "output_type": "display_data",
          "data": {
            "image/png": "[encoded data removed]",
            "text/plain": [
              "<Figure size 720x360 with 1 Axes>"
            ]
          },
          "metadata": {
            "tags": []
          }
        }
      ]
    },
    {
      "cell_type": "code",
      "metadata": {
        "id": "ucTnil0O6Ghh",
        "colab_type": "code",
        "colab": {
          "base_uri": "https://localhost:8080/",
          "height": 429
        },
        "outputId": "c39543d2-8c50-42f7-ded9-6ea6b29ea7f3"
      },
      "source": [
        "# Firstly, let's count the channels\n",
        "print(data1.Channel.value_counts(),'\\n')\n",
        "\n",
        "# Plotting\n",
        "sns.countplot('Channel', data = data1, palette='Set3')\n",
        "plt.show()"
      ],
      "execution_count": null,
      "outputs": [
        {
          "output_type": "stream",
          "text": [
            "Horeca    238\n",
            "Retail     96\n",
            "Name: Channel, dtype: int64 \n",
            "\n"
          ],
          "name": "stdout"
        },
        {
          "output_type": "display_data",
          "data": {
            "image/png": "[encoded data removed]",
            "text/plain": [
              "<Figure size 576x396 with 1 Axes>"
            ]
          },
          "metadata": {
            "tags": []
          }
        }
      ]
    },
    {
      "cell_type": "code",
      "metadata": {
        "id": "tPpA2xco6Ofs",
        "colab_type": "code",
        "colab": {
          "base_uri": "https://localhost:8080/",
          "height": 441
        },
        "outputId": "2a36acdb-cd24-4bf5-cddf-5b2e6bac6e3d"
      },
      "source": [
        "c = data1.groupby('Channel')['Total'].sum()\n",
        "print(c,'\\n')\n",
        "\n",
        "plt.figure(figsize=(10,5))\n",
        "\n",
        "plt.bar(c.index,c, color = ['lightgreen','lightblue'])\n",
        "plt.xlabel('Channels', fontdict={'fontweight': 'bold', 'fontsize': 14})\n",
        "plt.ylabel('Total amount', fontdict={'fontweight': 'bold', 'fontsize': 14})\n",
        "plt.title('Comparing Channels', fontdict={'fontweight': 'bold', 'fontsize': 16})\n",
        "\n",
        "\n",
        "plt.tight_layout\n",
        "plt.show()"
      ],
      "execution_count": null,
      "outputs": [
        {
          "output_type": "stream",
          "text": [
            "Channel\n",
            "Horeca    4860465.0\n",
            "Retail    3335670.0\n",
            "Name: Total, dtype: float64 \n",
            "\n"
          ],
          "name": "stdout"
        },
        {
          "output_type": "display_data",
          "data": {
            "image/png": "[encoded data removed]",
            "text/plain": [
              "<Figure size 720x360 with 1 Axes>"
            ]
          },
          "metadata": {
            "tags": []
          }
        }
      ]
    },
    {
      "cell_type": "code",
      "metadata": {
        "id": "jjgoj9v26R5i",
        "colab_type": "code",
        "colab": {
          "base_uri": "https://localhost:8080/",
          "height": 85
        },
        "outputId": "d54d7ce9-defc-43c6-eacc-9d49488af387"
      },
      "source": [
        "data1.Region.value_counts()"
      ],
      "execution_count": null,
      "outputs": [
        {
          "output_type": "execute_result",
          "data": {
            "text/plain": [
              "Other Region    240\n",
              "Lisbon           60\n",
              "Porto            34\n",
              "Name: Region, dtype: int64"
            ]
          },
          "metadata": {
            "tags": []
          },
          "execution_count": 214
        }
      ]
    },
    {
      "cell_type": "code",
      "metadata": {
        "id": "gvl6OhSK6Yzr",
        "colab_type": "code",
        "colab": {
          "base_uri": "https://localhost:8080/",
          "height": 153
        },
        "outputId": "3ec4d586-18b9-4b5e-ea02-961ac9c8a90f"
      },
      "source": [
        "r = data1.groupby(['Region','Channel']).size()\n",
        "r"
      ],
      "execution_count": null,
      "outputs": [
        {
          "output_type": "execute_result",
          "data": {
            "text/plain": [
              "Region        Channel\n",
              "Lisbon        Horeca      51\n",
              "              Retail       9\n",
              "Other Region  Horeca     164\n",
              "              Retail      76\n",
              "Porto         Horeca      23\n",
              "              Retail      11\n",
              "dtype: int64"
            ]
          },
          "metadata": {
            "tags": []
          },
          "execution_count": 215
        }
      ]
    },
    {
      "cell_type": "code",
      "metadata": {
        "id": "VF-W8PA76dpP",
        "colab_type": "code",
        "colab": {
          "base_uri": "https://localhost:8080/",
          "height": 361
        },
        "outputId": "bd8450e1-803f-4475-f2b1-a1e5fa23c70c"
      },
      "source": [
        "# Plotting\n",
        "sns.countplot('Region', hue = 'Channel', data = data1, palette='Set2')\n",
        "plt.show()"
      ],
      "execution_count": null,
      "outputs": [
        {
          "output_type": "display_data",
          "data": {
            "image/png": "[encoded data removed]",
            "text/plain": [
              "<Figure size 576x396 with 1 Axes>"
            ]
          },
          "metadata": {
            "tags": []
          }
        }
      ]
    },
    {
      "cell_type": "code",
      "metadata": {
        "id": "obmGLFG46fhS",
        "colab_type": "code",
        "colab": {
          "base_uri": "https://localhost:8080/",
          "height": 457
        },
        "outputId": "bf820c15-a9ad-4130-ad46-d2668f25fbcd"
      },
      "source": [
        "lisbon = data1[data1.Region == 'Lisbon']\n",
        "l = lisbon.iloc[:,2:-1].sum(axis = 0)\n",
        "\n",
        "porto = data1[data1.Region == 'Porto']\n",
        "p = porto.iloc[:,2:-1].sum(axis = 0)\n",
        "\n",
        "other = data1[data1.Region == 'Other Region']\n",
        "o = other.iloc[:,2:-1].sum(axis = 0)\n",
        "\n",
        "# Plotting\n",
        "plt.figure(figsize=(18,8))\n",
        "\n",
        "plt.subplot(2, 2, 1)\n",
        "plt.bar(l.index,l, color = ['skyblue'])\n",
        "#plt.xlabel('Categories', fontdict={'fontweight': 'bold', 'fontsize': 14})\n",
        "plt.ylabel('Total amount', fontdict={'fontweight': 'bold', 'fontsize': 14})\n",
        "plt.title('Spendings by Region', fontdict={'fontweight': 'bold', 'fontsize': 16})\n",
        "plt.legend(['Lisbon'])\n",
        "\n",
        "plt.subplot(2, 2, 2)\n",
        "plt.bar(p.index,p)\n",
        "plt.xlabel('Categories', fontdict={'fontweight': 'bold', 'fontsize': 14})\n",
        "#plt.ylabel('Total amount', fontdict={'fontweight': 'bold', 'fontsize': 14})\n",
        "plt.title('Spendings by Region', fontdict={'fontweight': 'bold', 'fontsize': 16})\n",
        "plt.legend(['Porto'])\n",
        "\n",
        "plt.subplot(2, 2, 3)\n",
        "plt.bar(o.index,o, color = 'lightgreen')\n",
        "plt.xlabel('Categories', fontdict={'fontweight': 'bold', 'fontsize': 14})\n",
        "plt.ylabel('Total amount', fontdict={'fontweight': 'bold', 'fontsize': 14})\n",
        "#plt.title('Spendings by Region', fontdict={'fontweight': 'bold', 'fontsize': 16})\n",
        "plt.legend(['Other Region'])\n",
        "\n",
        "\n",
        "plt.tight_layout\n",
        "plt.show()"
      ],
      "execution_count": null,
      "outputs": [
        {
          "output_type": "display_data",
          "data": {
            "image/png": "[encoded data removed]",
            "text/plain": [
              "<Figure size 1296x576 with 3 Axes>"
            ]
          },
          "metadata": {
            "tags": []
          }
        }
      ]
    }
  ]
}